{
 "cells": [
  {
   "cell_type": "markdown",
   "metadata": {},
   "source": [
    "# Function Basics\n",
    "\n",
    "- A function is a sequence of instructions that performs a specific task\n",
    "- A function is a block of code that can run when it is called.\n",
    "- It can have input arguments which are made available to it by the user.\n",
    "- Functions also have output parameters, which are the results of the function that the user expects to receive once the function has completed its task.\n",
    "- For instance, the function `math.cos` has one input argument, an angle in radians, and one output argument, an approximation to the `cos` function computed at the input angle (rounded to 16 digits).\n",
    "\n",
    "Note that the functions like `type`, `len` and so-on are built-in functions"
   ]
  },
  {
   "cell_type": "code",
   "execution_count": 2,
   "metadata": {},
   "outputs": [],
   "source": [
    "def something():\n",
    "    return "
   ]
  },
  {
   "cell_type": "code",
   "execution_count": 3,
   "metadata": {},
   "outputs": [
    {
     "data": {
      "text/plain": [
       "function"
      ]
     },
     "execution_count": 3,
     "metadata": {},
     "output_type": "execute_result"
    }
   ],
   "source": [
    "type(something)"
   ]
  },
  {
   "cell_type": "code",
   "execution_count": 6,
   "metadata": {},
   "outputs": [
    {
     "data": {
      "text/plain": [
       "function"
      ]
     },
     "execution_count": 6,
     "metadata": {},
     "output_type": "execute_result"
    }
   ],
   "source": [
    "import numpy as np\n",
    "\n",
    "type(np.linspace)"
   ]
  },
  {
   "cell_type": "code",
   "execution_count": 7,
   "metadata": {},
   "outputs": [
    {
     "name": "stdout",
     "output_type": "stream",
     "text": [
      "\u001b[1;31mSignature:\u001b[0m\n",
      "\u001b[0mnp\u001b[0m\u001b[1;33m.\u001b[0m\u001b[0mlinspace\u001b[0m\u001b[1;33m(\u001b[0m\u001b[1;33m\n",
      "\u001b[0m    \u001b[0mstart\u001b[0m\u001b[1;33m,\u001b[0m\u001b[1;33m\n",
      "\u001b[0m    \u001b[0mstop\u001b[0m\u001b[1;33m,\u001b[0m\u001b[1;33m\n",
      "\u001b[0m    \u001b[0mnum\u001b[0m\u001b[1;33m=\u001b[0m\u001b[1;36m50\u001b[0m\u001b[1;33m,\u001b[0m\u001b[1;33m\n",
      "\u001b[0m    \u001b[0mendpoint\u001b[0m\u001b[1;33m=\u001b[0m\u001b[1;32mTrue\u001b[0m\u001b[1;33m,\u001b[0m\u001b[1;33m\n",
      "\u001b[0m    \u001b[0mretstep\u001b[0m\u001b[1;33m=\u001b[0m\u001b[1;32mFalse\u001b[0m\u001b[1;33m,\u001b[0m\u001b[1;33m\n",
      "\u001b[0m    \u001b[0mdtype\u001b[0m\u001b[1;33m=\u001b[0m\u001b[1;32mNone\u001b[0m\u001b[1;33m,\u001b[0m\u001b[1;33m\n",
      "\u001b[0m    \u001b[0maxis\u001b[0m\u001b[1;33m=\u001b[0m\u001b[1;36m0\u001b[0m\u001b[1;33m,\u001b[0m\u001b[1;33m\n",
      "\u001b[0m\u001b[1;33m)\u001b[0m\u001b[1;33m\u001b[0m\u001b[1;33m\u001b[0m\u001b[0m\n",
      "\u001b[1;31mDocstring:\u001b[0m\n",
      "Return evenly spaced numbers over a specified interval.\n",
      "\n",
      "Returns `num` evenly spaced samples, calculated over the\n",
      "interval [`start`, `stop`].\n",
      "\n",
      "The endpoint of the interval can optionally be excluded.\n",
      "\n",
      ".. versionchanged:: 1.16.0\n",
      "    Non-scalar `start` and `stop` are now supported.\n",
      "\n",
      ".. versionchanged:: 1.20.0\n",
      "    Values are rounded towards ``-inf`` instead of ``0`` when an\n",
      "    integer ``dtype`` is specified. The old behavior can\n",
      "    still be obtained with ``np.linspace(start, stop, num).astype(int)``\n",
      "\n",
      "Parameters\n",
      "----------\n",
      "start : array_like\n",
      "    The starting value of the sequence.\n",
      "stop : array_like\n",
      "    The end value of the sequence, unless `endpoint` is set to False.\n",
      "    In that case, the sequence consists of all but the last of ``num + 1``\n",
      "    evenly spaced samples, so that `stop` is excluded.  Note that the step\n",
      "    size changes when `endpoint` is False.\n",
      "num : int, optional\n",
      "    Number of samples to generate. Default is 50. Must be non-negative.\n",
      "endpoint : bool, optional\n",
      "    If True, `stop` is the last sample. Otherwise, it is not included.\n",
      "    Default is True.\n",
      "retstep : bool, optional\n",
      "    If True, return (`samples`, `step`), where `step` is the spacing\n",
      "    between samples.\n",
      "dtype : dtype, optional\n",
      "    The type of the output array.  If `dtype` is not given, the data type\n",
      "    is inferred from `start` and `stop`. The inferred dtype will never be\n",
      "    an integer; `float` is chosen even if the arguments would produce an\n",
      "    array of integers.\n",
      "\n",
      "    .. versionadded:: 1.9.0\n",
      "\n",
      "axis : int, optional\n",
      "    The axis in the result to store the samples.  Relevant only if start\n",
      "    or stop are array-like.  By default (0), the samples will be along a\n",
      "    new axis inserted at the beginning. Use -1 to get an axis at the end.\n",
      "\n",
      "    .. versionadded:: 1.16.0\n",
      "\n",
      "Returns\n",
      "-------\n",
      "samples : ndarray\n",
      "    There are `num` equally spaced samples in the closed interval\n",
      "    ``[start, stop]`` or the half-open interval ``[start, stop)``\n",
      "    (depending on whether `endpoint` is True or False).\n",
      "step : float, optional\n",
      "    Only returned if `retstep` is True\n",
      "\n",
      "    Size of spacing between samples.\n",
      "\n",
      "\n",
      "See Also\n",
      "--------\n",
      "arange : Similar to `linspace`, but uses a step size (instead of the\n",
      "         number of samples).\n",
      "geomspace : Similar to `linspace`, but with numbers spaced evenly on a log\n",
      "            scale (a geometric progression).\n",
      "logspace : Similar to `geomspace`, but with the end points specified as\n",
      "           logarithms.\n",
      "\n",
      "Examples\n",
      "--------\n",
      ">>> np.linspace(2.0, 3.0, num=5)\n",
      "array([2.  , 2.25, 2.5 , 2.75, 3.  ])\n",
      ">>> np.linspace(2.0, 3.0, num=5, endpoint=False)\n",
      "array([2. ,  2.2,  2.4,  2.6,  2.8])\n",
      ">>> np.linspace(2.0, 3.0, num=5, retstep=True)\n",
      "(array([2.  ,  2.25,  2.5 ,  2.75,  3.  ]), 0.25)\n",
      "\n",
      "Graphical illustration:\n",
      "\n",
      ">>> import matplotlib.pyplot as plt\n",
      ">>> N = 8\n",
      ">>> y = np.zeros(N)\n",
      ">>> x1 = np.linspace(0, 10, N, endpoint=True)\n",
      ">>> x2 = np.linspace(0, 10, N, endpoint=False)\n",
      ">>> plt.plot(x1, y, 'o')\n",
      "[<matplotlib.lines.Line2D object at 0x...>]\n",
      ">>> plt.plot(x2, y + 0.5, 'o')\n",
      "[<matplotlib.lines.Line2D object at 0x...>]\n",
      ">>> plt.ylim([-0.5, 1])\n",
      "(-0.5, 1)\n",
      ">>> plt.show()\n",
      "\u001b[1;31mFile:\u001b[0m      c:\\users\\sampath\\appdata\\local\\programs\\python\\python39\\lib\\site-packages\\numpy\\core\\function_base.py\n",
      "\u001b[1;31mType:\u001b[0m      function\n"
     ]
    }
   ],
   "source": [
    "np.linspace?"
   ]
  },
  {
   "cell_type": "markdown",
   "metadata": {},
   "source": [
    "# Define your own function\n",
    "\n",
    "We can define our own functions. Here we will introduce the most common way to define a function which can be specified using the keyword def, as showing in the following:"
   ]
  },
  {
   "cell_type": "code",
   "execution_count": null,
   "metadata": {},
   "outputs": [],
   "source": [
    "def function_name(arg_1,arg_2):\n",
    "    '''\n",
    "    Descriptive String\n",
    "    '''\n",
    "    # comments about statements\n",
    "    function_statements\n",
    "    \n",
    "    return output_parameters() # Optional"
   ]
  },
  {
   "cell_type": "markdown",
   "metadata": {},
   "source": [
    "We could see that defining a Python function need the following two components:\n",
    "\n",
    "- **Function header**: A function header starts with a keyword def, followed by a pair of parentheses with the input arguments inside, and ends with a colon (:)\n",
    "\n",
    "- **Function Body**: An indented (usually four white spaces) block to indicate the main body of the function. It consists 3 parts:\n",
    "\n",
    "  - *Descriptive string*: A string that describes the function that could be accessed by the help() function or the question mark. You can write any strings inside, it could be multiple lines.\n",
    "\n",
    "  - *Function statements*: These are the step by step instructions the function will execute when we call the function. You may also notice that there is a line starts with ‘#’, this is a comment line, which means that the function will not execute it.\n",
    "\n",
    "  - *Return statements*: A function could return some parameters after the function is called, but this is optional, we could skip it. Any data type could be returned, even a function, we will explain more later."
   ]
  },
  {
   "cell_type": "code",
   "execution_count": 4,
   "metadata": {},
   "outputs": [],
   "source": [
    "# Function of adding three numbers\n",
    "def adder(a, b, c):\n",
    "    '''\n",
    "    function to sum the three numbers/strings\n",
    "    Input: 3 numbers/strings a, b, c\n",
    "    Output: the sum of a, b, and c\n",
    "    author: Dr. Sampath Lonka   \n",
    "    date: August 08, 2021\n",
    "    '''\n",
    "    # this is the summation\n",
    "    out = a+b+c\n",
    "    \n",
    "    return out"
   ]
  },
  {
   "cell_type": "code",
   "execution_count": 5,
   "metadata": {},
   "outputs": [
    {
     "name": "stdout",
     "output_type": "stream",
     "text": [
      "\u001b[1;31mSignature:\u001b[0m \u001b[0madder\u001b[0m\u001b[1;33m(\u001b[0m\u001b[0ma\u001b[0m\u001b[1;33m,\u001b[0m \u001b[0mb\u001b[0m\u001b[1;33m,\u001b[0m \u001b[0mc\u001b[0m\u001b[1;33m)\u001b[0m\u001b[1;33m\u001b[0m\u001b[1;33m\u001b[0m\u001b[0m\n",
      "\u001b[1;31mDocstring:\u001b[0m\n",
      "function to sum the three numbers/strings\n",
      "Input: 3 numbers/strings a, b, c\n",
      "Output: the sum of a, b, and c\n",
      "author: Dr. Sampath Lonka   \n",
      "date: August 08, 2021\n",
      "\u001b[1;31mFile:\u001b[0m      c:\\users\\sampath\\documents\\mdsc106\\<ipython-input-4-70285dc93644>\n",
      "\u001b[1;31mType:\u001b[0m      function\n"
     ]
    }
   ],
   "source": [
    "adder?"
   ]
  },
  {
   "cell_type": "code",
   "execution_count": null,
   "metadata": {},
   "outputs": [],
   "source": [
    "s = adder(4,5,6)\n",
    "s"
   ]
  },
  {
   "cell_type": "code",
   "execution_count": null,
   "metadata": {},
   "outputs": [],
   "source": [
    "s2 = adder(11,23,-1)\n",
    "s2"
   ]
  },
  {
   "cell_type": "code",
   "execution_count": null,
   "metadata": {},
   "outputs": [],
   "source": [
    "s3 = adder(a=4,c=-1,b=2)\n",
    "s3"
   ]
  },
  {
   "cell_type": "code",
   "execution_count": 9,
   "metadata": {},
   "outputs": [
    {
     "name": "stdout",
     "output_type": "stream",
     "text": [
      "Help on function adder in module __main__:\n",
      "\n",
      "adder(a, b, c)\n",
      "    function to sum the three numbers/strings\n",
      "    Input: 3 numbers/strings a, b, c\n",
      "    Output: the sum of a, b, and c\n",
      "    author: Dr. Sampath Lonka   \n",
      "    date: August 08, 2021\n",
      "\n"
     ]
    }
   ],
   "source": [
    "help(adder)"
   ]
  },
  {
   "cell_type": "code",
   "execution_count": null,
   "metadata": {},
   "outputs": [],
   "source": [
    "s3 = adder(np.sin(np.pi), np.cos(np.pi), np.tan(np.pi))\n",
    "s3"
   ]
  },
  {
   "cell_type": "markdown",
   "metadata": {},
   "source": [
    "Python functions can have multiple output parameters. When calling a function with multiple output parameters, you can place the multiple variables you want assigned separated by commas. The function essentially will return the multiple result parameters in a tuple, therefore, you could unpack the returned tuple. Consider the following function (note that it has multiple output parameters):\n",
    "\n"
   ]
  },
  {
   "cell_type": "code",
   "execution_count": null,
   "metadata": {},
   "outputs": [],
   "source": [
    "def trig_sum(a,b):\n",
    "    '''\n",
    "    function to demo return multiple values\n",
    "    author\n",
    "    date\n",
    "    '''\n",
    "    out1 = np.sin(a)+np.cos(b)\n",
    "    out2 = np.sin(b) + np.cos(a)\n",
    "    return out1, out2, [out1,out2]"
   ]
  },
  {
   "cell_type": "code",
   "execution_count": null,
   "metadata": {},
   "outputs": [],
   "source": [
    "ts1 = trig_sum(np.pi, np.pi/2)\n",
    "ts1"
   ]
  },
  {
   "cell_type": "code",
   "execution_count": null,
   "metadata": {},
   "outputs": [],
   "source": [
    "c,d,e = trig_sum(2,3)\n",
    "print(f'c = {c}, d={d}, e={e}')"
   ]
  },
  {
   "cell_type": "code",
   "execution_count": null,
   "metadata": {},
   "outputs": [],
   "source": [
    "c = trig_sum(2,3)\n",
    "print(f'c={c}, and the returned type is {type(c)}')"
   ]
  },
  {
   "cell_type": "markdown",
   "metadata": {},
   "source": [
    "# Nested Functions\n",
    "Once you have created and saved a new function, it behaves just like any other Python built-in function. You can call the function from anywhere in the notebook, and any other function can call on the function as well. A **nested function** is a function that is defined within another function - **parent function**. Only the parent function is able to call the nested function. However, the nested function retains a separate memory block from its parent function."
   ]
  },
  {
   "cell_type": "code",
   "execution_count": 10,
   "metadata": {},
   "outputs": [],
   "source": [
    "import numpy as np\n",
    "\n",
    "def dist_xyz(x, y, z):\n",
    "    '''\n",
    "    x, y, z are 2D co-ordinates contained in a tuple\n",
    "    output:\n",
    "    d - list, where\n",
    "        d[0] is the distance between x and y\n",
    "        d[1] is the distance between x and z\n",
    "        d[2] is the distnce between y and z\n",
    "    '''\n",
    "    def dist_xy(x,y):\n",
    "        '''\n",
    "        subfunction for dist_xyz\n",
    "        output is the distance b/w x and y\n",
    "        computed using distance formulea\n",
    "        '''\n",
    "        out = np.sqrt((x[0]-y[0])**2+(x[1]-y[1])**2)\n",
    "        return out \n",
    "    \n",
    "    d0 = dist_xy(x,y)\n",
    "    d1 = dist_xy(x,z)\n",
    "    d2 = dist_xy(y,z)\n",
    "    \n",
    "    return [d0, d1, d2], d0+d1+d2\n"
   ]
  },
  {
   "cell_type": "code",
   "execution_count": 16,
   "metadata": {},
   "outputs": [],
   "source": [
    "import math"
   ]
  },
  {
   "cell_type": "code",
   "execution_count": 27,
   "metadata": {},
   "outputs": [],
   "source": [
    "def dist_XYZ(x,y,z):\n",
    "    \n",
    "    def dist_XY(x,y):\n",
    "        \"\"\"_summary_\n",
    "\n",
    "        Args:\n",
    "        x, y are n-tuples\n",
    "        Returns:\n",
    "            _dist_: _dustance b/w two points_\n",
    "        \"\"\"\n",
    "        sum=0\n",
    "        if (len(x)!=len(y)):\n",
    "            return \"The dimension doesn't match\"\n",
    "            \n",
    "            \n",
    "        for i in range(len(x)):\n",
    "            sum += (x[i] - y[i])**2\n",
    "        dist = math.sqrt(sum)\n",
    "        return dist\n",
    "    d0 = dist_XY(x,y)\n",
    "    d1 = dist_XY(z,y)\n",
    "    d2 = dist_XY(z,x)\n",
    "    return (d0,d1,d2)\n",
    "        "
   ]
  },
  {
   "cell_type": "code",
   "execution_count": 32,
   "metadata": {},
   "outputs": [
    {
     "data": {
      "text/plain": [
       "(1.0, \"The dimension doesn't match\", \"The dimension doesn't match\")"
      ]
     },
     "execution_count": 32,
     "metadata": {},
     "output_type": "execute_result"
    }
   ],
   "source": [
    "a=(1,2,3,5)\n",
    "b=(1,2,3,4)\n",
    "c= (1,0,0)\n",
    "dist_XYZ(a,b,c)"
   ]
  },
  {
   "cell_type": "code",
   "execution_count": 26,
   "metadata": {},
   "outputs": [
    {
     "data": {
      "text/plain": [
       "\"The dimension doesn't match\""
      ]
     },
     "execution_count": 26,
     "metadata": {},
     "output_type": "execute_result"
    }
   ],
   "source": [
    "dist_XY([1,2,3],[1,2,4,5])"
   ]
  },
  {
   "cell_type": "code",
   "execution_count": 13,
   "metadata": {},
   "outputs": [
    {
     "data": {
      "text/plain": [
       "3"
      ]
     },
     "execution_count": 13,
     "metadata": {},
     "output_type": "execute_result"
    }
   ],
   "source": [
    "len((1,2,3))"
   ]
  },
  {
   "cell_type": "markdown",
   "metadata": {},
   "source": [
    "# Lambda Functions\n",
    "Sometimes, we don’t want to use the normal way to define a function, especially if our function is just one line. In this case, we can use anonymous function in Python, which is a function that is defined without a name. This type of functions also called **labmda function**, since they are defined using the `labmda` keyword. A typical lambda function is defined:"
   ]
  },
  {
   "cell_type": "code",
   "execution_count": 12,
   "metadata": {},
   "outputs": [
    {
     "data": {
      "text/plain": [
       "([1.0, 1.0, 1.4142135623730951], 3.414213562373095)"
      ]
     },
     "execution_count": 12,
     "metadata": {},
     "output_type": "execute_result"
    }
   ],
   "source": [
    "x = (0,2,3)\n",
    "y = (0,1,3)\n",
    "z = (1,2,0)\n",
    "d = dist_xyz(x,y,z)\n",
    "d"
   ]
  },
  {
   "cell_type": "code",
   "execution_count": null,
   "metadata": {},
   "outputs": [],
   "source": [
    "# lambda arguments: expression\n",
    "def square(x):\n",
    "    return x*x"
   ]
  },
  {
   "cell_type": "code",
   "execution_count": null,
   "metadata": {},
   "outputs": [],
   "source": [
    "square(5)"
   ]
  },
  {
   "cell_type": "code",
   "execution_count": null,
   "metadata": {},
   "outputs": [],
   "source": [
    "square = lambda x: x**2"
   ]
  },
  {
   "cell_type": "code",
   "execution_count": null,
   "metadata": {},
   "outputs": [],
   "source": [
    "square(2)"
   ]
  },
  {
   "cell_type": "code",
   "execution_count": 33,
   "metadata": {},
   "outputs": [],
   "source": [
    "def circle(x,y):\n",
    "    return x**2+y**2-4"
   ]
  },
  {
   "cell_type": "code",
   "execution_count": 34,
   "metadata": {},
   "outputs": [
    {
     "data": {
      "text/plain": [
       "16"
      ]
     },
     "execution_count": 34,
     "metadata": {},
     "output_type": "execute_result"
    }
   ],
   "source": [
    "circle(2,4)"
   ]
  },
  {
   "cell_type": "code",
   "execution_count": 35,
   "metadata": {},
   "outputs": [
    {
     "data": {
      "text/plain": [
       "16"
      ]
     },
     "execution_count": 35,
     "metadata": {},
     "output_type": "execute_result"
    }
   ],
   "source": [
    "circle = lambda x,y: x**2+y**2-4\n",
    "circle(2,4)"
   ]
  },
  {
   "cell_type": "code",
   "execution_count": null,
   "metadata": {},
   "outputs": [],
   "source": [
    "poly"
   ]
  },
  {
   "cell_type": "code",
   "execution_count": null,
   "metadata": {},
   "outputs": [],
   "source": [
    "def circle(x,y):\n",
    "    return x**2+y**2-4"
   ]
  },
  {
   "cell_type": "code",
   "execution_count": null,
   "metadata": {},
   "outputs": [],
   "source": [
    "circle(5,2)"
   ]
  },
  {
   "cell_type": "code",
   "execution_count": null,
   "metadata": {},
   "outputs": [],
   "source": [
    "def Square(x):\n",
    "    return x**2"
   ]
  },
  {
   "cell_type": "code",
   "execution_count": null,
   "metadata": {},
   "outputs": [],
   "source": [
    "Square(5)"
   ]
  },
  {
   "cell_type": "code",
   "execution_count": null,
   "metadata": {},
   "outputs": [],
   "source": [
    "adder_three = lambda x,y,z: x+y+z\n",
    "\n",
    "adder_three(3,4,5)\n"
   ]
  },
  {
   "cell_type": "markdown",
   "metadata": {},
   "source": [
    "Lambda functions can be useful in my cases, we will see more usage in later discussions. Here we just show a common use case for lambda function."
   ]
  },
  {
   "cell_type": "code",
   "execution_count": null,
   "metadata": {},
   "outputs": [],
   "source": [
    "# Sorting based on 2nd item\n",
    "sorted([(1,2),(2,0),(1,4)], key = lambda x: x[1])"
   ]
  },
  {
   "cell_type": "markdown",
   "metadata": {},
   "source": [
    "The following program defines a function to return both roots of the equation $ax^2+bx+c$"
   ]
  },
  {
   "cell_type": "markdown",
   "metadata": {},
   "source": [
    "$$x= {-b\\pm\\sqrt{b^2-4ac}\\over 2a}$$"
   ]
  },
  {
   "cell_type": "code",
   "execution_count": null,
   "metadata": {},
   "outputs": [],
   "source": [
    "import math\n",
    "def roots(a,b,c):\n",
    "    d = b**2 - 4*a*c # discriminant\n",
    "    r1 = (-b + math.sqrt(d))/(2*a) # root 1\n",
    "    r2 = (-b - math.sqrt(d))/(2*a) # root 2\n",
    "    return r1, r2 "
   ]
  },
  {
   "cell_type": "code",
   "execution_count": null,
   "metadata": {},
   "outputs": [],
   "source": [
    "roots(1.,-1,-6) # roots of x^2-x-6"
   ]
  },
  {
   "cell_type": "code",
   "execution_count": null,
   "metadata": {},
   "outputs": [],
   "source": [
    "roots(1.,1,1) #  roots of x^2+x+1"
   ]
  },
  {
   "cell_type": "code",
   "execution_count": 37,
   "metadata": {},
   "outputs": [],
   "source": [
    "\n",
    "def roots_enhanced(a,b,c):\n",
    "    \"\"\"[summary]\n",
    "    By using this we compute the roots of \n",
    "    the quadratic equation. It will print the roots of \n",
    "    the equation ax^2+bx+c=0.\n",
    "    Args:\n",
    "        a ([type]): [float or int]\n",
    "        b ([type]): [float or int]\n",
    "        c ([type]): [float or int]\n",
    "    \"\"\"\n",
    "    \n",
    "    d = b**2 - 4*a*c\n",
    "    if d >=0:\n",
    "        r1 = (-b + math.sqrt(d))/(2*a)\n",
    "        r2 = (-b - math.sqrt(d))/(2*a)\n",
    "        print(f'The roots are real and the roots are r1 = {r1} and r2 = {r2}')\n",
    "    else:\n",
    "        c1 = complex(-b/(2*a),math.sqrt(-d)/(2*a))\n",
    "        c2 = complex(-b/(2*a),-math.sqrt(-d)/(2*a))\n",
    "        print(f'The roots are complex and they are c1 ={c1} and c2 = {c2}')\n",
    "    "
   ]
  },
  {
   "cell_type": "markdown",
   "metadata": {},
   "source": [
    "The roots of $$x^2-x-6=0$$"
   ]
  },
  {
   "cell_type": "code",
   "execution_count": 38,
   "metadata": {},
   "outputs": [
    {
     "name": "stdout",
     "output_type": "stream",
     "text": [
      "The roots are real and the roots are r1 = 3.0 and r2 = -2.0\n"
     ]
    }
   ],
   "source": [
    "roots_enhanced(1.,-1,-6)"
   ]
  },
  {
   "cell_type": "code",
   "execution_count": 39,
   "metadata": {},
   "outputs": [
    {
     "name": "stdout",
     "output_type": "stream",
     "text": [
      "The roots are complex and they are c1 =(-0.5+0.8660254037844386j) and c2 = (-0.5-0.8660254037844386j)\n"
     ]
    }
   ],
   "source": [
    "roots_enhanced(1.,1,1)"
   ]
  },
  {
   "cell_type": "markdown",
   "metadata": {},
   "source": [
    "- Note that it's NOT necessary for a function to explicitly return any object.\n",
    "- Function definitions can appear anywhere ina Python program, but a function can't be referenced before it is defined.\n",
    "- Functions can even be nested, but a function defined inside another is not (directly) accessible from outside that function."
   ]
  },
  {
   "cell_type": "markdown",
   "metadata": {},
   "source": [
    "### Docstrings\n",
    "\n",
    "- A function _docstring_ is a string literal that occurs as the first statement of the function definition.\n",
    "- It's always written as a triple-quoted string.\n",
    "- It should provide the details about _how to use the function_: which arguments to pass it and which objects it returns.\n"
   ]
  },
  {
   "cell_type": "markdown",
   "metadata": {},
   "source": [
    "# Functions as Arguments to Functions\n",
    "\n",
    "Up until now, you have assigned various data structures to variable names. Being able to assign a data structure to a variable allows us to pass information to functions and get information back from them in a neat and orderly way. Sometimes it is useful to be able to pass a function as a variable to another function. In other words, the input to some functions may be other functions. In last section, we did see the lambda function returns a function object to the variable. In this section, we will continue to see how the function object can be used as the input to another function."
   ]
  },
  {
   "cell_type": "code",
   "execution_count": null,
   "metadata": {},
   "outputs": [],
   "source": [
    "f = max\n",
    "print(type(f))"
   ]
  },
  {
   "cell_type": "code",
   "execution_count": null,
   "metadata": {},
   "outputs": [],
   "source": [
    "f([2,3,4])"
   ]
  },
  {
   "cell_type": "code",
   "execution_count": null,
   "metadata": {},
   "outputs": [],
   "source": [
    "def plus_one_fun(f,x):\n",
    "    return f(x)+1\n",
    "\n",
    "plus_one_fun(np.sqrt,2)\n",
    "plus_one_fun(np.sin, np.pi)"
   ]
  },
  {
   "cell_type": "code",
   "execution_count": null,
   "metadata": {},
   "outputs": [],
   "source": [
    "# Another example using lambda function\n",
    "\n",
    "plus_one_fun(lambda x: x+2, 2)"
   ]
  },
  {
   "cell_type": "markdown",
   "metadata": {},
   "source": [
    "### Default and Keyword Arguments\n",
    "### **Keyword Arguments**\n",
    "- In previous examples, the arguments have been passes to the function in the order in which they are given in the function's definition. These are called _positional_ arguments.\n",
    "- It's also possible to pass the arguments in an arbitrary order by setting them explicitly as _keyword arguments_."
   ]
  },
  {
   "cell_type": "code",
   "execution_count": null,
   "metadata": {},
   "outputs": [],
   "source": [
    "roots(a=1.,c=-6,b=-1) # roots of x^2-x-6"
   ]
  },
  {
   "cell_type": "code",
   "execution_count": null,
   "metadata": {},
   "outputs": [],
   "source": [
    "roots_enhanced(1,-6,-1) # roots of the poly x^2-6x-1"
   ]
  },
  {
   "cell_type": "code",
   "execution_count": null,
   "metadata": {},
   "outputs": [],
   "source": [
    "roots(1, c=-6.,b=-1)"
   ]
  },
  {
   "cell_type": "code",
   "execution_count": null,
   "metadata": {},
   "outputs": [],
   "source": [
    "roots(b=-1, 1.,-6.)"
   ]
  },
  {
   "cell_type": "markdown",
   "metadata": {},
   "source": [
    "### Default Arguments\n",
    " - Sometimes you want to define a function that takes an optional arguments: if the caller doesn't provide a value for this arguments, a default value is used.\n",
    " - Default arguments are set in the function definition. \n",
    " - If a function is defined with an argument defaulting to some immutable object, subsequently changing that variable will not change the default."
   ]
  },
  {
   "cell_type": "code",
   "execution_count": null,
   "metadata": {},
   "outputs": [],
   "source": [
    "def report_length(value, units='m'):\n",
    "    return 'The length is {:.2f} {}'.format(value, units)"
   ]
  },
  {
   "cell_type": "code",
   "execution_count": null,
   "metadata": {},
   "outputs": [],
   "source": [
    "report_length(33.136)"
   ]
  },
  {
   "cell_type": "code",
   "execution_count": null,
   "metadata": {},
   "outputs": [],
   "source": [
    "report_length(33.136,'ft')"
   ]
  },
  {
   "cell_type": "code",
   "execution_count": null,
   "metadata": {},
   "outputs": [],
   "source": [
    "default_unit = 'm'\n",
    "def report_length(value, units=default_unit):\n",
    "    return 'The length is {:.2f} {}'.format(value, units)"
   ]
  },
  {
   "cell_type": "code",
   "execution_count": null,
   "metadata": {},
   "outputs": [],
   "source": [
    "report_length(10.1)"
   ]
  },
  {
   "cell_type": "code",
   "execution_count": null,
   "metadata": {},
   "outputs": [],
   "source": [
    "report_length(33.136, 'ft')"
   ]
  },
  {
   "cell_type": "code",
   "execution_count": null,
   "metadata": {},
   "outputs": [],
   "source": [
    "#default_units = 'cubic'\n",
    "report_length(10.1, 'something')"
   ]
  },
  {
   "cell_type": "markdown",
   "metadata": {},
   "source": [
    "The default units used by the function `report_length` are unchanged by the reassignment of the variable name `default_units`: the default value is set to the string object\n",
    "referred to by `default_units` when the `def` statement is encountered by the Python compiler ('m') and it cannot be changed subsequently.\n"
   ]
  },
  {
   "cell_type": "markdown",
   "metadata": {},
   "source": [
    "### Scope: local and global variables\n",
    "- A function can define and use its own variables. In this case, the variables are _local_ to that function.\n",
    "- These _local_ variables are NOT available outside the function.\n",
    "- Conversly, the variables assigned outside the function `def`s are _global_ and are available everywhere within the program file.\n"
   ]
  },
  {
   "cell_type": "code",
   "execution_count": 1,
   "metadata": {},
   "outputs": [],
   "source": [
    "def func():\n",
    "    a = 5 # local variable\n",
    "    print(a,x1)"
   ]
  },
  {
   "cell_type": "code",
   "execution_count": 2,
   "metadata": {},
   "outputs": [
    {
     "name": "stdout",
     "output_type": "stream",
     "text": [
      "5 10\n"
     ]
    }
   ],
   "source": [
    "x1 =10 # Global variable\n",
    "func()"
   ]
  },
  {
   "cell_type": "code",
   "execution_count": 3,
   "metadata": {},
   "outputs": [
    {
     "ename": "NameError",
     "evalue": "name 'a' is not defined",
     "output_type": "error",
     "traceback": [
      "\u001b[1;31m---------------------------------------------------------------------------\u001b[0m",
      "\u001b[1;31mNameError\u001b[0m                                 Traceback (most recent call last)",
      "\u001b[1;32m<ipython-input-3-bca0e2660b9f>\u001b[0m in \u001b[0;36m<module>\u001b[1;34m\u001b[0m\n\u001b[1;32m----> 1\u001b[1;33m \u001b[0mprint\u001b[0m\u001b[1;33m(\u001b[0m\u001b[0ma\u001b[0m\u001b[1;33m)\u001b[0m\u001b[1;33m\u001b[0m\u001b[1;33m\u001b[0m\u001b[0m\n\u001b[0m",
      "\u001b[1;31mNameError\u001b[0m: name 'a' is not defined"
     ]
    }
   ],
   "source": [
    "print(a)"
   ]
  },
  {
   "cell_type": "code",
   "execution_count": null,
   "metadata": {},
   "outputs": [],
   "source": [
    "b = 6\n",
    "func()"
   ]
  },
  {
   "cell_type": "markdown",
   "metadata": {},
   "source": [
    "The function `func` defines a variable `a`, but prints out both `a` and `b`. Because the variable\n",
    "`b` isn’t defined in the _local scope_ of the function, Python looks in the _global scope_, where\n",
    "it finds `b = 6`, so that is what is printed. It doesn’t matter that `b` hasn’t been defined when\n",
    "the function is defined, but of course it must be before the function is _called_.\n"
   ]
  },
  {
   "cell_type": "code",
   "execution_count": 4,
   "metadata": {},
   "outputs": [],
   "source": [
    "def func():\n",
    "    a = 5\n",
    "    print(a)"
   ]
  },
  {
   "cell_type": "code",
   "execution_count": null,
   "metadata": {},
   "outputs": [],
   "source": [
    "a = 6\n",
    "func()"
   ]
  },
  {
   "cell_type": "code",
   "execution_count": null,
   "metadata": {},
   "outputs": [],
   "source": [
    "print(a)"
   ]
  },
  {
   "cell_type": "markdown",
   "metadata": {},
   "source": [
    "- Note that the local variable `a` exists only within the body of the function;\n",
    "- It just happens to have the same name as the global variable `a`. It disappears after the function\n",
    "exits and it doesn’t overwrite the global `a`."
   ]
  },
  {
   "cell_type": "markdown",
   "metadata": {},
   "source": [
    "### LEGB\n",
    "- This is Python's rule for resolving scope of `local-global` variables\n",
    "- First _local_ scope, then _enclosing_ scope (for nested functions), then `global` scope, and finally `built-ins` - if you happen to give a variable the same name as a built-in function (such as `range` or `len`).\n",
    "- Generally, it's NOT a good idea to name your variables after bul=ilt-ins."
   ]
  },
  {
   "cell_type": "markdown",
   "metadata": {},
   "source": [
    "### Keywords: `global` and `nonlocal`\n",
    "\n",
    "- It is possible to access variables defined in scopes other than local functions.\n",
    "- Is it possible to modify them?"
   ]
  },
  {
   "cell_type": "code",
   "execution_count": 9,
   "metadata": {},
   "outputs": [],
   "source": [
    "\n",
    "def func1():\n",
    "    print(x)"
   ]
  },
  {
   "cell_type": "code",
   "execution_count": 17,
   "metadata": {},
   "outputs": [],
   "source": [
    "\n",
    "\n",
    "def func2():\n",
    "    global x\n",
    "    x += 1\n",
    "    return x"
   ]
  },
  {
   "cell_type": "code",
   "execution_count": 15,
   "metadata": {},
   "outputs": [
    {
     "name": "stdout",
     "output_type": "stream",
     "text": [
      "6\n"
     ]
    }
   ],
   "source": [
    "x = 6\n",
    "func1()"
   ]
  },
  {
   "cell_type": "code",
   "execution_count": 18,
   "metadata": {},
   "outputs": [
    {
     "data": {
      "text/plain": [
       "8"
      ]
     },
     "execution_count": 18,
     "metadata": {},
     "output_type": "execute_result"
    }
   ],
   "source": [
    "func2()"
   ]
  },
  {
   "cell_type": "code",
   "execution_count": 20,
   "metadata": {},
   "outputs": [],
   "source": [
    "def func2():\n",
    "    global x \n",
    "    x += 1"
   ]
  },
  {
   "cell_type": "code",
   "execution_count": null,
   "metadata": {},
   "outputs": [],
   "source": [
    "x = 4"
   ]
  },
  {
   "cell_type": "code",
   "execution_count": null,
   "metadata": {},
   "outputs": [],
   "source": [
    "func2()"
   ]
  },
  {
   "cell_type": "code",
   "execution_count": null,
   "metadata": {},
   "outputs": [],
   "source": [
    "x"
   ]
  },
  {
   "cell_type": "markdown",
   "metadata": {},
   "source": [
    "Example: The _Lazy Caterer's Sequence, f(n)_ describes the maximum number of pieces a circular pizza can be divided into with an interesting number of cuts, $n.$ Clearly, $f(0)=1, f(1)=2,$ and $f(2)=4.$ For $n=3, f(3)=7$ (the maximum number of pieces are formed if the cuts do not intersect at a common point). It can be shown that the general recursion formula\n",
    "\n",
    "$f(n) = f(n-1) + n, n\\ge 1$"
   ]
  },
  {
   "cell_type": "code",
   "execution_count": 22,
   "metadata": {},
   "outputs": [],
   "source": [
    "def f(seq):\n",
    "    seq.append(seq[-1]+n)"
   ]
  },
  {
   "cell_type": "code",
   "execution_count": 27,
   "metadata": {},
   "outputs": [],
   "source": [
    "seq = [1] # f(0)=1\n",
    "for n in range(1,16): # range(1,3) = 1,2\n",
    "    f(seq)"
   ]
  },
  {
   "cell_type": "code",
   "execution_count": 28,
   "metadata": {},
   "outputs": [
    {
     "name": "stdout",
     "output_type": "stream",
     "text": [
      "[1, 2, 4, 7, 11, 16, 22, 29, 37, 46, 56, 67, 79, 92, 106, 121]\n"
     ]
    }
   ],
   "source": [
    "print(seq)"
   ]
  },
  {
   "cell_type": "code",
   "execution_count": null,
   "metadata": {},
   "outputs": [],
   "source": []
  },
  {
   "cell_type": "markdown",
   "metadata": {},
   "source": [
    "# Summary\n",
    "- A function is a self-contained set of instructions designed to do a specific task.\n",
    "\n",
    "- A function has its own memory block for its variables.Information can be added to a function’s memory block only through a function’s input variables. Information can leave the function’s memory block only through a function’s output variables.\n",
    "\n",
    "- A function can be defined within another function, called nested function. This nested function can be only accessed by the parent function.\n",
    "\n",
    "- You can define anonymous function using keyword **lambda**, the so called `lambda` function.\n",
    "\n",
    "- You can assign functions to variables using function handle"
   ]
  },
  {
   "cell_type": "markdown",
   "metadata": {},
   "source": [
    "### Review Questions on Functions"
   ]
  },
  {
   "cell_type": "markdown",
   "metadata": {},
   "source": [
    "Q1. Write a program to compute the real roots of the equation $ax^2+bx+c.$"
   ]
  },
  {
   "cell_type": "code",
   "execution_count": 4,
   "metadata": {},
   "outputs": [
    {
     "name": "stdout",
     "output_type": "stream",
     "text": [
      "For a quadratic equation of form 'a(x**2)+bx+c=0' enter a,b,c:1\n",
      "Enter b:2\n",
      "Enter c:1\n",
      "-1.0\n",
      "-1.0\n"
     ]
    }
   ],
   "source": [
    "\"\"\"\n",
    "Summary : Finding roots of a quadratic equation using library:math and basic functions of python.\n",
    "Author:Hemanth\n",
    "Date:04-08-2022\n",
    "\n",
    "  Parameters\n",
    "    ----------\n",
    "    a : int\n",
    "        Coefficient of X^2\n",
    "    b : int\n",
    "        Coefficient of X\n",
    "    c : int\n",
    "        Value of Constant\n",
    "\n",
    "    Prints\n",
    "    -------\n",
    "    r1 , r2 :int\n",
    "        The roots of aX^2+bX+c.\n",
    "\"\"\"\n",
    "import math #importing math library\n",
    "\n",
    "def rooter(a,b,c):\n",
    "    r1=(-b+math.sqrt(math.pow(b,2)-4*a*c))/2*a #root finding formula\n",
    "    r2=(-b-math.sqrt(math.pow(b,2)-4*a*c))/2*a #root finding formula\n",
    "    print(r1)\n",
    "    print(r2)\n",
    "\n",
    "a=int(input(\"For a quadratic equation of form 'a(x**2)+bx+c=0' enter a,b,c:\" )) #getting input\n",
    "b=int(input(\"Enter b:\" ))\n",
    "c=int(input(\"Enter c:\" ))\n",
    "\n",
    "if(math.pow(b,2)-4*a*c==0 or math.pow(b,2)-4*a*c>=1):\n",
    "    rooter(a,b,c) #calling function\n",
    "else:\n",
    "    print(\"This combination of co-efficients does not have any real roots.\")"
   ]
  },
  {
   "cell_type": "markdown",
   "metadata": {},
   "source": [
    "Q2. Write a program to compute the probability $P(X=x),$ where $X\\sim Bin(n=10,p=0.2)$"
   ]
  },
  {
   "cell_type": "code",
   "execution_count": 14,
   "metadata": {},
   "outputs": [
    {
     "name": "stdout",
     "output_type": "stream",
     "text": [
      "P(X=11)=0\n"
     ]
    }
   ],
   "source": [
    "\"\"\"\n",
    " Summary:We are trying to find the probability P(X=x) for given parameters of a binomial distribution.\n",
    " Author:Hemanth\n",
    " Date:06-08-2022.\n",
    " \n",
    "\"\"\"\n",
    "from math import factorial #importing math library\n",
    "\n",
    "def calcbinprob(n,p,x):\n",
    "    if x<=n:\n",
    "        if p>=0 and p<=1 and x>0:\n",
    "            ncr=factorial(n)/(factorial(x)*factorial(n-x)) #combination finding\n",
    "            p=ncr*math.pow(p,x)*math.pow(1-p,n-x)\n",
    "            print(f\"P(X = {x}) is:\")\n",
    "            print(p)\n",
    "    else:\n",
    "        print(f\"P(X={x})=0\")\n",
    "        \n",
    "\n",
    "calcbinprob(10,0.5,11) #calling function"
   ]
  },
  {
   "cell_type": "markdown",
   "metadata": {},
   "source": [
    "Q3. Lets say you are running a 5 km race. Write a program that,\n",
    "\n",
    "Upon completing each 1 km asks you \"are you tired?\"\n",
    "\n",
    "If you reply \"yes\" then it should break and print \"you didn't finish the race\"\n",
    "\n",
    "If you reply \"no\" then it should continue and ask \"are you tired\" on every km\n",
    "\n",
    "If you finish all 5 km then it should print congratulations message\n"
   ]
  },
  {
   "cell_type": "code",
   "execution_count": 6,
   "metadata": {},
   "outputs": [
    {
     "name": "stdout",
     "output_type": "stream",
     "text": [
      "Are you Tired?no\n",
      "Are you Tired?no\n",
      "Are you Tired?yes\n",
      "You didn't finish the race\n"
     ]
    }
   ],
   "source": [
    "\"\"\"Summary : Trying to know whether player is tried or not while he finishes the race.\n",
    "Author:Hemanth\n",
    "Date:05-08-2022.\n",
    "\n",
    "Parameters\n",
    "    ----------\n",
    "    a : str\n",
    "        takes yes or anything else\n",
    "   \n",
    "\"\"\"\n",
    "for i in range(4):\n",
    "    a = input(\"Are you Tired?\")\n",
    "\n",
    "    if a == \"yes\":\n",
    "      print(\"You didn't finish the race\")\n",
    "      break\n",
    "\n",
    "if i==3:\n",
    "    print(\"congratulations\")"
   ]
  },
  {
   "cell_type": "markdown",
   "metadata": {},
   "source": [
    "Q4. Write a function `tip_calc(bill, party)`, where bill is the total cost of a meal and party is the number of people in the group. The tip should be calculated as 15% for a party strictly less than six people, 18% for a party strictly less than eight, 20% for a party less than 11, and 25% for a party 11 or more. A couple of test cases are given below."
   ]
  },
  {
   "cell_type": "code",
   "execution_count": 15,
   "metadata": {},
   "outputs": [
    {
     "name": "stdout",
     "output_type": "stream",
     "text": [
      "Enter the number of people that came for the party: 5\n"
     ]
    },
    {
     "data": {
      "text/plain": [
       "150.0"
      ]
     },
     "execution_count": 15,
     "metadata": {},
     "output_type": "execute_result"
    }
   ],
   "source": [
    "\"\"\"Summary:Calculating Tip amount according to the number of people that attended he party.\n",
    "Author:Hemanth\n",
    "Date:05-08-2022\n",
    "\"\"\"\n",
    "\n",
    "def tip_calc(bill, party):\n",
    "    if party<6:\n",
    "        return(0.15*bill)\n",
    "    if party<8:\n",
    "        return(0.18*bill)\n",
    "    if party<11:\n",
    "        return(0.20*bill)\n",
    "    if party>=11:\n",
    "        return(0.25*bill)\n",
    "\n",
    "party=int(input(\"Enter the number of people that came for the party: \"))\n",
    "bill=1000\n",
    "tip_calc(bill, party) #calling function"
   ]
  },
  {
   "cell_type": "markdown",
   "metadata": {},
   "source": [
    "Q5. Write a function `mult_operation(a,b,operation)`. The input argument, operation, is a string that is either 'plus', 'minus', 'mult', 'div', or 'pow', and the function should compute: a+b, a−b, a∗b, a/b, and ab for the respective values for operation. A couple of test cases are given below."
   ]
  },
  {
   "cell_type": "code",
   "execution_count": 38,
   "metadata": {},
   "outputs": [
    {
     "name": "stdout",
     "output_type": "stream",
     "text": [
      "Enter a number:2\n",
      "Enter a number:4\n",
      "Enter the operation:pow\n",
      "16.0\n"
     ]
    }
   ],
   "source": [
    "\"\"\"\n",
    "Summary: Returning the output by doing specified operation(string) on a(integer) & b(int)\n",
    "Author:Hemanth\n",
    "Date:05-08-2022\n",
    "\"\"\"\n",
    "def mult_operation(a,b,operation):\n",
    "    if operation == \"plus\":\n",
    "        print(a+b)\n",
    "    if operation == \"minus\":\n",
    "        print(a-b)\n",
    "    if operation == \"mult\":\n",
    "        print(a*b)\n",
    "    if operation == \"div\":\n",
    "        print(a/b)\n",
    "    if operation == \"pow\":\n",
    "        print(a**b)\n",
    "    \n",
    "a=float(input(\"Enter a number:\")) #getting integer output\n",
    "b=float(input(\"Enter a number:\")) #getting integer output\n",
    "operation=input(\"Enter the operation:\") #operation\n",
    "mult_operation(a,b,operation) #calling function"
   ]
  },
  {
   "cell_type": "markdown",
   "metadata": {},
   "source": [
    "Q6. Consider a triangle with vertices at (0,0), (1,0), and (0,1). Write a function `inside_triangle(x,y)` where the output is the string ‘outside’ if the point (x,y) is outside of the triangle, ‘border’ if the point is exactly on the border of the triangle, and ‘inside’ if the point is on the inside of the triangle."
   ]
  },
  {
   "cell_type": "code",
   "execution_count": 8,
   "metadata": {
    "scrolled": true
   },
   "outputs": [
    {
     "name": "stdout",
     "output_type": "stream",
     "text": [
      "Enter the x-coordinate:5\n",
      "Enter the y-coordinate:3\n",
      "outside\n"
     ]
    }
   ],
   "source": [
    "\"\"\"\n",
    "Summary:Checking the coordinates using if to know whether those coordinates are inside,ouside or on border of the triangle.\n",
    "Author:Hemanth\n",
    "Date:05-08-2022.\n",
    " \n",
    "\"\"\"\n",
    "def inside_triangle(x,y):\n",
    "    if x+y==1 or x>=0 and x<=1 or y>=0 and y<=1:\n",
    "        print(\"border\")\n",
    "        return\n",
    "    if x+y>1:\n",
    "        print(\"outside\")\n",
    "        return\n",
    "    if x+y<1:\n",
    "        print(\"inside\")\n",
    "        return\n",
    "    \n",
    "x=float(input(\"Enter the x-coordinate:\")) #getting input of x\n",
    "y=float(input(\"Enter the y-coordinate:\")) #getting input of r\n",
    "inside_triangle(x,y) #calling function"
   ]
  },
  {
   "cell_type": "markdown",
   "metadata": {},
   "source": [
    "Q7. Write a function `letter_grader(percent)`, where grade is the string ‘O’ if percent is greater than 80, ‘A’ if percent is greater than 70, ‘B‘ if percent is greater than 60, ‘C’ if percent is greater than 40, and ‘F’ if percent is less than 40. Grades exactly on the division should be included in the higher grade category."
   ]
  },
  {
   "cell_type": "code",
   "execution_count": 3,
   "metadata": {
    "scrolled": true
   },
   "outputs": [
    {
     "name": "stdout",
     "output_type": "stream",
     "text": [
      "Enter your percentage to know your grade:56.4\n",
      "C\n"
     ]
    }
   ],
   "source": [
    "\"\"\"\n",
    "Summary:Checking grade percentage and printing corresponding grade using basic python and functions\n",
    "Author:Hemanth\n",
    "Date:04-08-2022.\n",
    "    \n",
    "\"\"\"\n",
    "\n",
    "def letter_grader(percent):\n",
    "    if percent>=80:\n",
    "        print(\"O\")\n",
    "    elif percent>=70:\n",
    "        print(\"A\")\n",
    "    elif percent>=60:\n",
    "        print(\"B\")\n",
    "    elif percent>=40:\n",
    "        print(\"C\")\n",
    "    elif percent<40:\n",
    "        print(\"F\")\n",
    "\n",
    "percent=float(input(\"Enter your percentage to know your grade:\")) #getting input of percentage\n",
    "letter_grader(percent) #calling function"
   ]
  },
  {
   "cell_type": "markdown",
   "metadata": {},
   "source": [
    "Q8. Consider a nuclear reactor whose temperature is monitored by three sensors. An alarm should go off if any two of the sensor readings disagree. Write a function `nuke_alarm(s1,s2,s3)` where s1, s2, and s3 are the temperature readings for sensor 1, sensor 2, and sensor 3, respectively. The output should be the string ‘alarm!’ if any two of the temperature readings disagree by strictly more than 10 degrees and ‘normal’ otherwise."
   ]
  },
  {
   "cell_type": "code",
   "execution_count": 9,
   "metadata": {},
   "outputs": [
    {
     "name": "stdout",
     "output_type": "stream",
     "text": [
      "Sensor1 temperature:56\n",
      "Sensor2 temperature:125.4\n",
      "Sensor3 temperature:84.7\n",
      "alarm!\n"
     ]
    }
   ],
   "source": [
    "\"\"\"\n",
    "Summary: Checking temperature difference between three sensors and alarming if the difference is more than ten\n",
    "Author:Hemanth\n",
    "Date:06-08-2022\n",
    "\"\"\"\n",
    "import math #importing math library\n",
    "\n",
    "def nuke_alarm(s1,s2,s3):\n",
    "    if s1-s2>10.0 or s1-s3>10.0 or s2-s1>10.0 or s2-s3>10.0 or s3-s2>10.0 or s3-s1>10.0:\n",
    "        print(\"alarm!\")\n",
    "    else:\n",
    "        print(\"normal\")\n",
    "        \n",
    "s1=float(input(\"Sensor1 temperature:\")) #getting input of sensor1's temerature\n",
    "s2=float(input(\"Sensor2 temperature:\")) #getting input of sensor2's temerature\n",
    "s3=float(input(\"Sensor3 temperature:\")) #getting input of sensor3's temerature\n",
    "nuke_alarm(s1,s2,s3) #calling function"
   ]
  },
  {
   "cell_type": "markdown",
   "metadata": {},
   "source": [
    "Q9.  Write a function `n_odds(x)`, where $x$ is a one-dimensional array of floats and the output is the number of odd numbers in $x.$"
   ]
  },
  {
   "cell_type": "code",
   "execution_count": 17,
   "metadata": {
    "scrolled": true
   },
   "outputs": [
    {
     "name": "stdout",
     "output_type": "stream",
     "text": [
      "The Count of ODDS in the given array is :  4\n"
     ]
    }
   ],
   "source": [
    "\"\"\"\n",
    " Summary:We are trying to find number of odds in an array\n",
    " Author:Hemanth\n",
    " Date:06-08-2022.\n",
    " \"\"\"\n",
    "\n",
    "def n_odds(a):#defing function\n",
    "    count =0 #initializing count to 0\n",
    "    for i in range(len(a)):\n",
    "        if (a[i])%2 !=0: # Converting float value into integer as it is not possible to tell a float value as even r odd\n",
    "            count = count + 1\n",
    "    return count\n",
    "x=[1,14,11,2,5,3]\n",
    "print(\"The Count of ODDS in the given array is : \" ,n_odds(x))\n",
    "#n_odds(x)"
   ]
  },
  {
   "cell_type": "markdown",
   "metadata": {},
   "source": [
    "Q10. Write a function `vol_cylinder(r,h)`, where $r$ and $h$ are the radius and height of a cylinder, respectively, and the output is a list $[s, v]$ where $s$ and $v$ are the surface area and volume of the same cylinder, respectively. Recall that the surface area of a cylinder is $2πr^2+2πrh,$ and the volume is $πr^2h.$    Assume that $r$ and $h$ are 1 by 1 float."
   ]
  },
  {
   "cell_type": "code",
   "execution_count": 9,
   "metadata": {},
   "outputs": [
    {
     "name": "stdout",
     "output_type": "stream",
     "text": [
      "Enter the radius: 5\n",
      "Enter the height: 3\n"
     ]
    },
    {
     "data": {
      "text/plain": [
       "[251.32741228718345, 235.61944901923448]"
      ]
     },
     "execution_count": 9,
     "metadata": {},
     "output_type": "execute_result"
    }
   ],
   "source": [
    "\"\"\"\n",
    "_Summary_: Calculating Surface area and Volume of a cylinder by taking radius and height.\n",
    "Author:Satya-22228\n",
    "Date:04-08-2022\n",
    "\"\"\"\n",
    "\n",
    "import math #importing math library\n",
    "\n",
    "def vol_cylinder(r,h):\n",
    "    v=math.pi*r*r*h #volume of a cylinder formula\n",
    "    s=math.pi*2*r*r+2*math.pi*r*h #surface area of a cylinder formula\n",
    "    return([s,v])\n",
    "\n",
    "d=int(input(\"Enter the radius: \")) #getting input of r\n",
    "i=int(input(\"Enter the height: \")) #getting input of h\n",
    "vol_cylinder(d,i) #calling function"
   ]
  },
  {
   "cell_type": "markdown",
   "metadata": {},
   "source": []
  }
 ],
 "metadata": {
  "kernelspec": {
   "display_name": "Python 3 (ipykernel)",
   "language": "python",
   "name": "python3"
  },
  "language_info": {
   "codemirror_mode": {
    "name": "ipython",
    "version": 3
   },
   "file_extension": ".py",
   "mimetype": "text/x-python",
   "name": "python",
   "nbconvert_exporter": "python",
   "pygments_lexer": "ipython3",
   "version": "3.9.13"
  },
  "vscode": {
   "interpreter": {
    "hash": "0c3475d628a6e1891247424f441d1061dae8f5ba2fe4a38277c605d30418b22f"
   }
  }
 },
 "nbformat": 4,
 "nbformat_minor": 2
}
